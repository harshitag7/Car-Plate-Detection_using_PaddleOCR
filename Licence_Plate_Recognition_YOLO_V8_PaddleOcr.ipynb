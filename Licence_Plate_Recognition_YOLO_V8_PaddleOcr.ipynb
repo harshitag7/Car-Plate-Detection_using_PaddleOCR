{
  "cells": [
    {
      "cell_type": "code",
      "execution_count": 1,
      "metadata": {
        "colab": {
          "base_uri": "https://localhost:8080/"
        },
        "id": "soj7oqxKXLDW",
        "outputId": "723507b6-faf1-4087-e11c-e762ea5d0b48"
      },
      "outputs": [
        {
          "name": "stdout",
          "output_type": "stream",
          "text": [
            "Cloning into 'Licence-Plate-Detection-and-Recognition-using-YOLO-V8-EasyOCR'...\n",
            "remote: Enumerating objects: 132, done.\u001b[K\n",
            "remote: Counting objects: 100% (38/38), done.\u001b[K\n",
            "remote: Compressing objects: 100% (35/35), done.\u001b[K\n",
            "remote: Total 132 (delta 6), reused 10 (delta 3), pack-reused 94\u001b[K\n",
            "Receiving objects: 100% (132/132), 14.73 MiB | 20.98 MiB/s, done.\n",
            "Resolving deltas: 100% (33/33), done.\n"
          ]
        }
      ],
      "source": [
        "!git clone https://github.com/Arijit1080/Licence-Plate-Detection-and-Recognition-using-YOLO-V8-EasyOCR.git"
      ]
    },
    {
      "cell_type": "code",
      "execution_count": 2,
      "metadata": {
        "colab": {
          "base_uri": "https://localhost:8080/"
        },
        "id": "YI3lrkLBcV-o",
        "outputId": "fdf0951d-fa0c-4d31-ab46-ce8eeb77805d"
      },
      "outputs": [
        {
          "name": "stdout",
          "output_type": "stream",
          "text": [
            "/content/Licence-Plate-Detection-and-Recognition-using-YOLO-V8-EasyOCR\n"
          ]
        }
      ],
      "source": [
        "cd /content/Licence-Plate-Detection-and-Recognition-using-YOLO-V8-EasyOCR"
      ]
    },
    {
      "cell_type": "code",
      "execution_count": 1,
      "metadata": {
        "colab": {
          "base_uri": "https://localhost:8080/",
          "height": 1000
        },
        "id": "SAy_5DdlcPaG",
        "outputId": "289873f9-87ad-4bc6-f1c8-20dd1fc1b0c4"
      },
      "outputs": [
        {
          "name": "stdout",
          "output_type": "stream",
          "text": [
            "Collecting ultralytics==8.0.3\n",
            "  Using cached ultralytics-8.0.3-py3-none-any.whl (247 kB)\n",
            "Requirement already satisfied: hydra-core>=1.2.0 in c:\\users\\admin\\appdata\\local\\programs\\python\\python310\\lib\\site-packages (from -r requirements.txt (line 5)) (1.3.2)\n",
            "Requirement already satisfied: matplotlib>=3.2.2 in c:\\users\\admin\\appdata\\local\\programs\\python\\python310\\lib\\site-packages (from -r requirements.txt (line 6)) (3.8.2)\n",
            "Requirement already satisfied: numpy>=1.18.5 in c:\\users\\admin\\appdata\\local\\programs\\python\\python310\\lib\\site-packages (from -r requirements.txt (line 7)) (1.26.3)\n",
            "Requirement already satisfied: opencv-python>=4.1.1 in c:\\users\\admin\\appdata\\local\\programs\\python\\python310\\lib\\site-packages (from -r requirements.txt (line 8)) (4.9.0.80)\n",
            "Requirement already satisfied: Pillow>=7.1.2 in c:\\users\\admin\\appdata\\local\\programs\\python\\python310\\lib\\site-packages (from -r requirements.txt (line 9)) (10.2.0)\n",
            "Requirement already satisfied: PyYAML>=5.3.1 in c:\\users\\admin\\appdata\\local\\programs\\python\\python310\\lib\\site-packages (from -r requirements.txt (line 10)) (6.0.1)\n",
            "Requirement already satisfied: requests>=2.23.0 in c:\\users\\admin\\appdata\\local\\programs\\python\\python310\\lib\\site-packages (from -r requirements.txt (line 11)) (2.31.0)\n",
            "Requirement already satisfied: scipy>=1.4.1 in c:\\users\\admin\\appdata\\local\\programs\\python\\python310\\lib\\site-packages (from -r requirements.txt (line 12)) (1.11.4)\n",
            "Requirement already satisfied: torch>=1.7.0 in c:\\users\\admin\\appdata\\local\\programs\\python\\python310\\lib\\site-packages (from -r requirements.txt (line 13)) (2.1.2)\n",
            "Requirement already satisfied: torchvision>=0.8.1 in c:\\users\\admin\\appdata\\local\\programs\\python\\python310\\lib\\site-packages (from -r requirements.txt (line 14)) (0.16.2)\n",
            "Requirement already satisfied: tqdm>=4.64.0 in c:\\users\\admin\\appdata\\local\\programs\\python\\python310\\lib\\site-packages (from -r requirements.txt (line 15)) (4.66.1)\n",
            "Requirement already satisfied: Easyocr in c:\\users\\admin\\appdata\\local\\programs\\python\\python310\\lib\\site-packages (from -r requirements.txt (line 16)) (1.7.1)\n",
            "Requirement already satisfied: tensorboard>=2.4.1 in c:\\users\\admin\\appdata\\local\\programs\\python\\python310\\lib\\site-packages (from -r requirements.txt (line 19)) (2.15.1)\n",
            "Requirement already satisfied: pandas>=1.1.4 in c:\\users\\admin\\appdata\\local\\programs\\python\\python310\\lib\\site-packages (from -r requirements.txt (line 23)) (2.1.4)\n",
            "Requirement already satisfied: seaborn>=0.11.0 in c:\\users\\admin\\appdata\\local\\programs\\python\\python310\\lib\\site-packages (from -r requirements.txt (line 24)) (0.13.1)\n",
            "Requirement already satisfied: ipython in c:\\users\\admin\\appdata\\local\\programs\\python\\python310\\lib\\site-packages (from -r requirements.txt (line 27)) (8.20.0)\n",
            "Requirement already satisfied: psutil in c:\\users\\admin\\appdata\\local\\programs\\python\\python310\\lib\\site-packages (from -r requirements.txt (line 28)) (5.9.7)\n",
            "Requirement already satisfied: thop>=0.1.1 in c:\\users\\admin\\appdata\\local\\programs\\python\\python310\\lib\\site-packages (from -r requirements.txt (line 29)) (0.1.1.post2209072238)\n",
            "Requirement already satisfied: GitPython>=3.1.24 in c:\\users\\admin\\appdata\\local\\programs\\python\\python310\\lib\\site-packages (from -r requirements.txt (line 32)) (3.1.41)\n",
            "Requirement already satisfied: packaging in c:\\users\\admin\\appdata\\local\\programs\\python\\python310\\lib\\site-packages (from hydra-core>=1.2.0->-r requirements.txt (line 5)) (23.2)\n",
            "Requirement already satisfied: omegaconf<2.4,>=2.2 in c:\\users\\admin\\appdata\\local\\programs\\python\\python310\\lib\\site-packages (from hydra-core>=1.2.0->-r requirements.txt (line 5)) (2.3.0)\n",
            "Requirement already satisfied: antlr4-python3-runtime==4.9.* in c:\\users\\admin\\appdata\\local\\programs\\python\\python310\\lib\\site-packages (from hydra-core>=1.2.0->-r requirements.txt (line 5)) (4.9.3)\n",
            "Requirement already satisfied: fonttools>=4.22.0 in c:\\users\\admin\\appdata\\local\\programs\\python\\python310\\lib\\site-packages (from matplotlib>=3.2.2->-r requirements.txt (line 6)) (4.47.2)\n",
            "Requirement already satisfied: pyparsing>=2.3.1 in c:\\users\\admin\\appdata\\local\\programs\\python\\python310\\lib\\site-packages (from matplotlib>=3.2.2->-r requirements.txt (line 6)) (3.1.1)\n",
            "Requirement already satisfied: contourpy>=1.0.1 in c:\\users\\admin\\appdata\\local\\programs\\python\\python310\\lib\\site-packages (from matplotlib>=3.2.2->-r requirements.txt (line 6)) (1.2.0)\n",
            "Requirement already satisfied: python-dateutil>=2.7 in c:\\users\\admin\\appdata\\local\\programs\\python\\python310\\lib\\site-packages (from matplotlib>=3.2.2->-r requirements.txt (line 6)) (2.8.2)\n",
            "Requirement already satisfied: cycler>=0.10 in c:\\users\\admin\\appdata\\local\\programs\\python\\python310\\lib\\site-packages (from matplotlib>=3.2.2->-r requirements.txt (line 6)) (0.10.0)\n",
            "Requirement already satisfied: kiwisolver>=1.3.1 in c:\\users\\admin\\appdata\\local\\programs\\python\\python310\\lib\\site-packages (from matplotlib>=3.2.2->-r requirements.txt (line 6)) (1.4.5)\n",
            "Requirement already satisfied: idna<4,>=2.5 in c:\\users\\admin\\appdata\\local\\programs\\python\\python310\\lib\\site-packages (from requests>=2.23.0->-r requirements.txt (line 11)) (2.10)\n",
            "Requirement already satisfied: urllib3<3,>=1.21.1 in c:\\users\\admin\\appdata\\local\\programs\\python\\python310\\lib\\site-packages (from requests>=2.23.0->-r requirements.txt (line 11)) (2.0.7)\n",
            "Requirement already satisfied: charset-normalizer<4,>=2 in c:\\users\\admin\\appdata\\local\\programs\\python\\python310\\lib\\site-packages (from requests>=2.23.0->-r requirements.txt (line 11)) (3.3.2)\n",
            "Requirement already satisfied: certifi>=2017.4.17 in c:\\users\\admin\\appdata\\local\\programs\\python\\python310\\lib\\site-packages (from requests>=2.23.0->-r requirements.txt (line 11)) (2023.7.22)\n",
            "Requirement already satisfied: fsspec in c:\\users\\admin\\appdata\\local\\programs\\python\\python310\\lib\\site-packages (from torch>=1.7.0->-r requirements.txt (line 13)) (2023.12.2)\n",
            "Requirement already satisfied: sympy in c:\\users\\admin\\appdata\\local\\programs\\python\\python310\\lib\\site-packages (from torch>=1.7.0->-r requirements.txt (line 13)) (1.12)\n",
            "Requirement already satisfied: jinja2 in c:\\users\\admin\\appdata\\local\\programs\\python\\python310\\lib\\site-packages (from torch>=1.7.0->-r requirements.txt (line 13)) (3.1.3)\n",
            "Requirement already satisfied: filelock in c:\\users\\admin\\appdata\\local\\programs\\python\\python310\\lib\\site-packages (from torch>=1.7.0->-r requirements.txt (line 13)) (3.13.1)\n",
            "Requirement already satisfied: networkx in c:\\users\\admin\\appdata\\local\\programs\\python\\python310\\lib\\site-packages (from torch>=1.7.0->-r requirements.txt (line 13)) (3.2.1)\n",
            "Requirement already satisfied: typing-extensions in c:\\users\\admin\\appdata\\local\\programs\\python\\python310\\lib\\site-packages (from torch>=1.7.0->-r requirements.txt (line 13)) (4.9.0)\n",
            "Requirement already satisfied: colorama in c:\\users\\admin\\appdata\\local\\programs\\python\\python310\\lib\\site-packages (from tqdm>=4.64.0->-r requirements.txt (line 15)) (0.4.6)\n",
            "Requirement already satisfied: python-bidi in c:\\users\\admin\\appdata\\local\\programs\\python\\python310\\lib\\site-packages (from Easyocr->-r requirements.txt (line 16)) (0.4.2)\n",
            "Requirement already satisfied: scikit-image in c:\\users\\admin\\appdata\\local\\programs\\python\\python310\\lib\\site-packages (from Easyocr->-r requirements.txt (line 16)) (0.22.0)\n",
            "Requirement already satisfied: pyclipper in c:\\users\\admin\\appdata\\local\\programs\\python\\python310\\lib\\site-packages (from Easyocr->-r requirements.txt (line 16)) (1.3.0.post5)\n",
            "Requirement already satisfied: opencv-python-headless in c:\\users\\admin\\appdata\\local\\programs\\python\\python310\\lib\\site-packages (from Easyocr->-r requirements.txt (line 16)) (4.8.0.74)\n",
            "Requirement already satisfied: Shapely in c:\\users\\admin\\appdata\\local\\programs\\python\\python310\\lib\\site-packages (from Easyocr->-r requirements.txt (line 16)) (2.0.2)\n",
            "Requirement already satisfied: ninja in c:\\users\\admin\\appdata\\local\\programs\\python\\python310\\lib\\site-packages (from Easyocr->-r requirements.txt (line 16)) (1.11.1.1)\n",
            "Requirement already satisfied: google-auth<3,>=1.6.3 in c:\\users\\admin\\appdata\\local\\programs\\python\\python310\\lib\\site-packages (from tensorboard>=2.4.1->-r requirements.txt (line 19)) (2.26.2)\n",
            "Requirement already satisfied: markdown>=2.6.8 in c:\\users\\admin\\appdata\\local\\programs\\python\\python310\\lib\\site-packages (from tensorboard>=2.4.1->-r requirements.txt (line 19)) (3.5.2)\n",
            "Requirement already satisfied: werkzeug>=1.0.1 in c:\\users\\admin\\appdata\\local\\programs\\python\\python310\\lib\\site-packages (from tensorboard>=2.4.1->-r requirements.txt (line 19)) (3.0.1)\n",
            "Requirement already satisfied: setuptools>=41.0.0 in c:\\users\\admin\\appdata\\local\\programs\\python\\python310\\lib\\site-packages (from tensorboard>=2.4.1->-r requirements.txt (line 19)) (69.1.0)\n",
            "Requirement already satisfied: absl-py>=0.4 in c:\\users\\admin\\appdata\\local\\programs\\python\\python310\\lib\\site-packages (from tensorboard>=2.4.1->-r requirements.txt (line 19)) (2.0.0)\n",
            "Requirement already satisfied: tensorboard-data-server<0.8.0,>=0.7.0 in c:\\users\\admin\\appdata\\local\\programs\\python\\python310\\lib\\site-packages (from tensorboard>=2.4.1->-r requirements.txt (line 19)) (0.7.2)\n",
            "Requirement already satisfied: grpcio>=1.48.2 in c:\\users\\admin\\appdata\\local\\programs\\python\\python310\\lib\\site-packages (from tensorboard>=2.4.1->-r requirements.txt (line 19)) (1.60.0)\n",
            "Requirement already satisfied: protobuf<4.24,>=3.19.6 in c:\\users\\admin\\appdata\\local\\programs\\python\\python310\\lib\\site-packages (from tensorboard>=2.4.1->-r requirements.txt (line 19)) (3.20.2)\n",
            "Requirement already satisfied: google-auth-oauthlib<2,>=0.5 in c:\\users\\admin\\appdata\\local\\programs\\python\\python310\\lib\\site-packages (from tensorboard>=2.4.1->-r requirements.txt (line 19)) (1.2.0)\n",
            "Requirement already satisfied: six>1.9 in c:\\users\\admin\\appdata\\local\\programs\\python\\python310\\lib\\site-packages (from tensorboard>=2.4.1->-r requirements.txt (line 19)) (1.16.0)\n",
            "Requirement already satisfied: tzdata>=2022.1 in c:\\users\\admin\\appdata\\local\\programs\\python\\python310\\lib\\site-packages (from pandas>=1.1.4->-r requirements.txt (line 23)) (2023.4)\n",
            "Requirement already satisfied: pytz>=2020.1 in c:\\users\\admin\\appdata\\local\\programs\\python\\python310\\lib\\site-packages (from pandas>=1.1.4->-r requirements.txt (line 23)) (2023.3.post1)\n",
            "Requirement already satisfied: decorator in c:\\users\\admin\\appdata\\local\\programs\\python\\python310\\lib\\site-packages (from ipython->-r requirements.txt (line 27)) (5.1.1)\n",
            "Requirement already satisfied: stack-data in c:\\users\\admin\\appdata\\local\\programs\\python\\python310\\lib\\site-packages (from ipython->-r requirements.txt (line 27)) (0.6.3)\n",
            "Requirement already satisfied: matplotlib-inline in c:\\users\\admin\\appdata\\local\\programs\\python\\python310\\lib\\site-packages (from ipython->-r requirements.txt (line 27)) (0.1.6)\n",
            "Requirement already satisfied: jedi>=0.16 in c:\\users\\admin\\appdata\\local\\programs\\python\\python310\\lib\\site-packages (from ipython->-r requirements.txt (line 27)) (0.19.1)\n",
            "Requirement already satisfied: prompt-toolkit<3.1.0,>=3.0.41 in c:\\users\\admin\\appdata\\local\\programs\\python\\python310\\lib\\site-packages (from ipython->-r requirements.txt (line 27)) (3.0.43)\n",
            "Requirement already satisfied: pygments>=2.4.0 in c:\\users\\admin\\appdata\\local\\programs\\python\\python310\\lib\\site-packages (from ipython->-r requirements.txt (line 27)) (2.17.2)\n",
            "Requirement already satisfied: traitlets>=5 in c:\\users\\admin\\appdata\\local\\programs\\python\\python310\\lib\\site-packages (from ipython->-r requirements.txt (line 27)) (5.14.1)\n",
            "Requirement already satisfied: exceptiongroup in c:\\users\\admin\\appdata\\local\\programs\\python\\python310\\lib\\site-packages (from ipython->-r requirements.txt (line 27)) (1.2.0)\n",
            "Requirement already satisfied: gitdb<5,>=4.0.1 in c:\\users\\admin\\appdata\\local\\programs\\python\\python310\\lib\\site-packages (from GitPython>=3.1.24->-r requirements.txt (line 32)) (4.0.11)\n",
            "Requirement already satisfied: smmap<6,>=3.0.1 in c:\\users\\admin\\appdata\\local\\programs\\python\\python310\\lib\\site-packages (from gitdb<5,>=4.0.1->GitPython>=3.1.24->-r requirements.txt (line 32)) (5.0.1)\n",
            "Requirement already satisfied: cachetools<6.0,>=2.0.0 in c:\\users\\admin\\appdata\\local\\programs\\python\\python310\\lib\\site-packages (from google-auth<3,>=1.6.3->tensorboard>=2.4.1->-r requirements.txt (line 19)) (5.3.2)\n",
            "Requirement already satisfied: rsa<5,>=3.1.4 in c:\\users\\admin\\appdata\\local\\programs\\python\\python310\\lib\\site-packages (from google-auth<3,>=1.6.3->tensorboard>=2.4.1->-r requirements.txt (line 19)) (4.9)\n",
            "Requirement already satisfied: pyasn1-modules>=0.2.1 in c:\\users\\admin\\appdata\\local\\programs\\python\\python310\\lib\\site-packages (from google-auth<3,>=1.6.3->tensorboard>=2.4.1->-r requirements.txt (line 19)) (0.3.0)\n",
            "Requirement already satisfied: requests-oauthlib>=0.7.0 in c:\\users\\admin\\appdata\\local\\programs\\python\\python310\\lib\\site-packages (from google-auth-oauthlib<2,>=0.5->tensorboard>=2.4.1->-r requirements.txt (line 19)) (1.3.1)\n",
            "Requirement already satisfied: parso<0.9.0,>=0.8.3 in c:\\users\\admin\\appdata\\local\\programs\\python\\python310\\lib\\site-packages (from jedi>=0.16->ipython->-r requirements.txt (line 27)) (0.8.3)\n",
            "Requirement already satisfied: wcwidth in c:\\users\\admin\\appdata\\local\\programs\\python\\python310\\lib\\site-packages (from prompt-toolkit<3.1.0,>=3.0.41->ipython->-r requirements.txt (line 27)) (0.2.13)\n",
            "Requirement already satisfied: MarkupSafe>=2.1.1 in c:\\users\\admin\\appdata\\local\\programs\\python\\python310\\lib\\site-packages (from werkzeug>=1.0.1->tensorboard>=2.4.1->-r requirements.txt (line 19)) (2.1.3)\n",
            "Requirement already satisfied: tifffile>=2022.8.12 in c:\\users\\admin\\appdata\\local\\programs\\python\\python310\\lib\\site-packages (from scikit-image->Easyocr->-r requirements.txt (line 16)) (2023.12.9)\n",
            "Requirement already satisfied: imageio>=2.27 in c:\\users\\admin\\appdata\\local\\programs\\python\\python310\\lib\\site-packages (from scikit-image->Easyocr->-r requirements.txt (line 16)) (2.33.1)\n",
            "Requirement already satisfied: lazy_loader>=0.3 in c:\\users\\admin\\appdata\\local\\programs\\python\\python310\\lib\\site-packages (from scikit-image->Easyocr->-r requirements.txt (line 16)) (0.3)\n",
            "Requirement already satisfied: asttokens>=2.1.0 in c:\\users\\admin\\appdata\\local\\programs\\python\\python310\\lib\\site-packages (from stack-data->ipython->-r requirements.txt (line 27)) (2.4.1)\n",
            "Requirement already satisfied: pure-eval in c:\\users\\admin\\appdata\\local\\programs\\python\\python310\\lib\\site-packages (from stack-data->ipython->-r requirements.txt (line 27)) (0.2.2)\n",
            "Requirement already satisfied: executing>=1.2.0 in c:\\users\\admin\\appdata\\local\\programs\\python\\python310\\lib\\site-packages (from stack-data->ipython->-r requirements.txt (line 27)) (2.0.1)\n",
            "Requirement already satisfied: mpmath>=0.19 in c:\\users\\admin\\appdata\\local\\programs\\python\\python310\\lib\\site-packages (from sympy->torch>=1.7.0->-r requirements.txt (line 13)) (1.3.0)\n",
            "Requirement already satisfied: pyasn1<0.6.0,>=0.4.6 in c:\\users\\admin\\appdata\\local\\programs\\python\\python310\\lib\\site-packages (from pyasn1-modules>=0.2.1->google-auth<3,>=1.6.3->tensorboard>=2.4.1->-r requirements.txt (line 19)) (0.5.1)\n",
            "Requirement already satisfied: oauthlib>=3.0.0 in c:\\users\\admin\\appdata\\local\\programs\\python\\python310\\lib\\site-packages (from requests-oauthlib>=0.7.0->google-auth-oauthlib<2,>=0.5->tensorboard>=2.4.1->-r requirements.txt (line 19)) (3.2.2)\n",
            "Installing collected packages: ultralytics\n",
            "  Attempting uninstall: ultralytics\n",
            "    Found existing installation: ultralytics 8.1.15\n",
            "    Uninstalling ultralytics-8.1.15:\n",
            "      Successfully uninstalled ultralytics-8.1.15\n",
            "Successfully installed ultralytics-8.0.3\n",
            "Note: you may need to restart the kernel to use updated packages.\n"
          ]
        },
        {
          "name": "stderr",
          "output_type": "stream",
          "text": [
            "WARNING: Ignoring invalid distribution -rotobuf (c:\\users\\admin\\appdata\\local\\programs\\python\\python310\\lib\\site-packages)\n",
            "WARNING: Ignoring invalid distribution -pencv-python (c:\\users\\admin\\appdata\\local\\programs\\python\\python310\\lib\\site-packages)\n",
            "WARNING: Ignoring invalid distribution -pencv-python-headless (c:\\users\\admin\\appdata\\local\\programs\\python\\python310\\lib\\site-packages)\n",
            "WARNING: Ignoring invalid distribution -rotobuf (c:\\users\\admin\\appdata\\local\\programs\\python\\python310\\lib\\site-packages)\n",
            "WARNING: Ignoring invalid distribution -pencv-python (c:\\users\\admin\\appdata\\local\\programs\\python\\python310\\lib\\site-packages)\n",
            "WARNING: Ignoring invalid distribution -pencv-python-headless (c:\\users\\admin\\appdata\\local\\programs\\python\\python310\\lib\\site-packages)\n",
            "WARNING: Ignoring invalid distribution -rotobuf (c:\\users\\admin\\appdata\\local\\programs\\python\\python310\\lib\\site-packages)\n",
            "WARNING: Ignoring invalid distribution -pencv-python (c:\\users\\admin\\appdata\\local\\programs\\python\\python310\\lib\\site-packages)\n",
            "WARNING: Ignoring invalid distribution -pencv-python-headless (c:\\users\\admin\\appdata\\local\\programs\\python\\python310\\lib\\site-packages)\n",
            "    WARNING: Ignoring invalid distribution -rotobuf (c:\\users\\admin\\appdata\\local\\programs\\python\\python310\\lib\\site-packages)\n",
            "    WARNING: Ignoring invalid distribution -pencv-python (c:\\users\\admin\\appdata\\local\\programs\\python\\python310\\lib\\site-packages)\n",
            "    WARNING: Ignoring invalid distribution -pencv-python-headless (c:\\users\\admin\\appdata\\local\\programs\\python\\python310\\lib\\site-packages)\n",
            "WARNING: Ignoring invalid distribution -rotobuf (c:\\users\\admin\\appdata\\local\\programs\\python\\python310\\lib\\site-packages)\n",
            "WARNING: Ignoring invalid distribution -pencv-python (c:\\users\\admin\\appdata\\local\\programs\\python\\python310\\lib\\site-packages)\n",
            "WARNING: Ignoring invalid distribution -pencv-python-headless (c:\\users\\admin\\appdata\\local\\programs\\python\\python310\\lib\\site-packages)\n",
            "ERROR: pip's dependency resolver does not currently take into account all the packages that are installed. This behaviour is the source of the following dependency conflicts.\n",
            "yolov5 7.0.13 requires ultralytics>=8.0.100, but you have ultralytics 8.0.3 which is incompatible.\n",
            "WARNING: Ignoring invalid distribution -rotobuf (c:\\users\\admin\\appdata\\local\\programs\\python\\python310\\lib\\site-packages)\n",
            "WARNING: Ignoring invalid distribution -pencv-python (c:\\users\\admin\\appdata\\local\\programs\\python\\python310\\lib\\site-packages)\n",
            "WARNING: Ignoring invalid distribution -pencv-python-headless (c:\\users\\admin\\appdata\\local\\programs\\python\\python310\\lib\\site-packages)\n",
            "WARNING: Ignoring invalid distribution -rotobuf (c:\\users\\admin\\appdata\\local\\programs\\python\\python310\\lib\\site-packages)\n",
            "WARNING: Ignoring invalid distribution -pencv-python (c:\\users\\admin\\appdata\\local\\programs\\python\\python310\\lib\\site-packages)\n",
            "WARNING: Ignoring invalid distribution -pencv-python-headless (c:\\users\\admin\\appdata\\local\\programs\\python\\python310\\lib\\site-packages)\n",
            "WARNING: Ignoring invalid distribution -rotobuf (c:\\users\\admin\\appdata\\local\\programs\\python\\python310\\lib\\site-packages)\n",
            "WARNING: Ignoring invalid distribution -pencv-python (c:\\users\\admin\\appdata\\local\\programs\\python\\python310\\lib\\site-packages)\n",
            "WARNING: Ignoring invalid distribution -pencv-python-headless (c:\\users\\admin\\appdata\\local\\programs\\python\\python310\\lib\\site-packages)\n",
            "\n",
            "[notice] A new release of pip available: 22.3.1 -> 24.0\n",
            "[notice] To update, run: python.exe -m pip install --upgrade pip\n"
          ]
        }
      ],
      "source": [
        "pip install -r requirements.txt"
      ]
    },
    {
      "cell_type": "code",
      "execution_count": 2,
      "metadata": {
        "colab": {
          "base_uri": "https://localhost:8080/"
        },
        "id": "jUhBdfQ-cbzV",
        "outputId": "2e0c445a-2079-4f2e-8b70-8535e54ab343"
      },
      "outputs": [
        {
          "name": "stderr",
          "output_type": "stream",
          "text": [
            "WARNING  Different global settings detected, resetting to defaults. This may be due to an ultralytics package update. View and update your global settings directly in C:\\Users\\admin\\AppData\\Roaming\\Ultralytics\\settings.yaml\n",
            "Neither CUDA nor MPS are available - defaulting to CPU. Note: This module is much faster with a GPU.\n",
            "Ultralytics YOLOv8.0.3  Python-3.10.10 torch-2.1.2+cpu CPU\n",
            "Error executing job with overrides: [\"model='/content/Licence-Plate-Detection-and-Recognition-using-YOLO-V8-EasyOCR/best.pt'\", \"source='/content/Licence-Plate-Detection-and-Recognition-using-YOLO-V8-EasyOCR/demo.mp4'\"]\n",
            "\n",
            "Traceback (most recent call last):\n",
            "  File \"c:\\Users\\admin\\OneDrive\\Desktop\\paddle\\Licence-Plate-Detection-and-Recognition-using-YOLO-V8-EasyOCR\\predictWithOCR.py\", line 112, in predict\n",
            "    predictor()\n",
            "  File \"c:\\Users\\admin\\AppData\\Local\\Programs\\Python\\Python310\\lib\\site-packages\\torch\\utils\\_contextlib.py\", line 115, in decorate_context\n",
            "    return func(*args, **kwargs)\n",
            "  File \"c:\\Users\\admin\\OneDrive\\Desktop\\paddle\\Licence-Plate-Detection-and-Recognition-using-YOLO-V8-EasyOCR\\ultralytics\\yolo\\engine\\predictor.py\", line 164, in __call__\n",
            "    model = self.model if self.done_setup else self.setup(source, model)\n",
            "  File \"c:\\Users\\admin\\OneDrive\\Desktop\\paddle\\Licence-Plate-Detection-and-Recognition-using-YOLO-V8-EasyOCR\\ultralytics\\yolo\\engine\\predictor.py\", line 121, in setup\n",
            "    model = AutoBackend(model, device=device, dnn=self.args.dnn, fp16=self.args.half)\n",
            "  File \"c:\\Users\\admin\\OneDrive\\Desktop\\paddle\\Licence-Plate-Detection-and-Recognition-using-YOLO-V8-EasyOCR\\ultralytics\\nn\\autobackend.py\", line 73, in __init__\n",
            "    model = attempt_load_weights(weights if isinstance(weights, list) else w,\n",
            "  File \"c:\\Users\\admin\\OneDrive\\Desktop\\paddle\\Licence-Plate-Detection-and-Recognition-using-YOLO-V8-EasyOCR\\ultralytics\\nn\\tasks.py\", line 303, in attempt_load_weights\n",
            "    ckpt = torch.load(attempt_download(w), map_location='cpu')  # load\n",
            "  File \"c:\\Users\\admin\\AppData\\Local\\Programs\\Python\\Python310\\lib\\site-packages\\torch\\serialization.py\", line 986, in load\n",
            "    with _open_file_like(f, 'rb') as opened_file:\n",
            "  File \"c:\\Users\\admin\\AppData\\Local\\Programs\\Python\\Python310\\lib\\site-packages\\torch\\serialization.py\", line 435, in _open_file_like\n",
            "    return _open_file(name_or_buffer, mode)\n",
            "  File \"c:\\Users\\admin\\AppData\\Local\\Programs\\Python\\Python310\\lib\\site-packages\\torch\\serialization.py\", line 416, in __init__\n",
            "    super().__init__(open(name, mode))\n",
            "FileNotFoundError: [Errno 2] No such file or directory: '\\\\content\\\\Licence-Plate-Detection-and-Recognition-using-YOLO-V8-EasyOCR\\\\best.pt'\n",
            "\n",
            "Set the environment variable HYDRA_FULL_ERROR=1 for a complete stack trace.\n"
          ]
        }
      ],
      "source": [
        "!python predictWithOCR.py model='/content/Licence-Plate-Detection-and-Recognition-using-YOLO-V8-EasyOCR/best.pt' source='/content/Licence-Plate-Detection-and-Recognition-using-YOLO-V8-EasyOCR/demo.mp4'"
      ]
    }
  ],
  "metadata": {
    "accelerator": "GPU",
    "colab": {
      "gpuType": "T4",
      "provenance": []
    },
    "kernelspec": {
      "display_name": "Python 3",
      "name": "python3"
    },
    "language_info": {
      "codemirror_mode": {
        "name": "ipython",
        "version": 3
      },
      "file_extension": ".py",
      "mimetype": "text/x-python",
      "name": "python",
      "nbconvert_exporter": "python",
      "pygments_lexer": "ipython3",
      "version": "3.10.10"
    }
  },
  "nbformat": 4,
  "nbformat_minor": 0
}
